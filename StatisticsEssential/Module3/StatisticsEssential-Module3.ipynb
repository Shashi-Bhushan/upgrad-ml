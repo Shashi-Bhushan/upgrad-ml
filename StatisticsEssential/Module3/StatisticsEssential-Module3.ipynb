{
 "cells": [
  {
   "cell_type": "markdown",
   "metadata": {},
   "source": [
    "# Load Data"
   ]
  },
  {
   "cell_type": "code",
   "execution_count": 360,
   "metadata": {},
   "outputs": [],
   "source": [
    "# Load the required Libraries\n",
    "import numpy as np\n",
    "import pandas as pd\n",
    "\n",
    "import matplotlib.pyplot as plt\n",
    "import seaborn as sns\n",
    "\n",
    "sns.set_style(\"whitegrid\")\n"
   ]
  },
  {
   "cell_type": "markdown",
   "metadata": {},
   "source": [
    "## Load Required Files"
   ]
  },
  {
   "cell_type": "code",
   "execution_count": 361,
   "metadata": {},
   "outputs": [],
   "source": [
    "companies = pd.read_table('companies.txt', encoding = 'latin1')\n",
    "rounds2 = pd.read_csv('rounds2.csv', encoding = 'latin1')"
   ]
  },
  {
   "cell_type": "markdown",
   "metadata": {},
   "source": [
    "## Checkpoints Part 1\n",
    "### Checkpoint 1: Data Cleaning 1\n"
   ]
  },
  {
   "cell_type": "code",
   "execution_count": 362,
   "metadata": {},
   "outputs": [],
   "source": [
    "# convert permalink to lowercase (as mentioned in https://stackoverflow.com/questions/22245171/how-to-lowercase-a-python-dataframe-string-column-if-it-has-missing-values)\n",
    "\n",
    "companies['permalink'] = companies['permalink'].astype(str).str.lower()"
   ]
  },
  {
   "cell_type": "code",
   "execution_count": 363,
   "metadata": {},
   "outputs": [],
   "source": [
    "# Same, convert company_permalink to lowercase\n",
    "rounds2['company_permalink'] = rounds2['company_permalink'].astype(str).str.lower()"
   ]
  },
  {
   "cell_type": "code",
   "execution_count": 364,
   "metadata": {},
   "outputs": [
    {
     "name": "stdout",
     "output_type": "stream",
     "text": [
      "0\n",
      "114949\n",
      "unique Companies in rounds 2 : 66370\n"
     ]
    }
   ],
   "source": [
    "# Check if any value is null\n",
    "print(rounds2['company_permalink'].isnull().sum())\n",
    "\n",
    "# Check how many company IDs are there\n",
    "print(len(rounds2['company_permalink']))\n",
    "\n",
    "# check how many unique company IDs are there\n",
    "print(\"unique Companies in rounds 2 : {}\".format(len(rounds2['company_permalink'].unique())))"
   ]
  },
  {
   "cell_type": "code",
   "execution_count": 365,
   "metadata": {},
   "outputs": [
    {
     "name": "stdout",
     "output_type": "stream",
     "text": [
      "0\n",
      "66368\n",
      "Unique Companies in companies DF : 66368\n"
     ]
    }
   ],
   "source": [
    "# Check if any value is null\n",
    "print(companies['permalink'].isnull().sum())\n",
    "\n",
    "# Check how many company IDs are there\n",
    "print(len(companies['permalink']))\n",
    "\n",
    "# check how many unique company IDs are there\n",
    "print(\"Unique Companies in companies DF : {}\".format(len(companies['permalink'].unique())))"
   ]
  },
  {
   "cell_type": "markdown",
   "metadata": {},
   "source": [
    "#### Q. Are there any companies in the rounds2 file which are not present in companies?\n",
    "Y <br/>\n",
    "since unique companies in rounds2 Dataframe are more than there are companies mentioned in companies Dataframe.\n",
    "we already know that there are indeed more companies in rounds2 Dataframe."
   ]
  },
  {
   "cell_type": "markdown",
   "metadata": {},
   "source": [
    "#### Q. In the companies data frame, which column can be used as the unique key for each company?\n",
    "in Companies DF, as companies['permalink'] has unique values, it can be used as primary key"
   ]
  },
  {
   "cell_type": "code",
   "execution_count": 366,
   "metadata": {},
   "outputs": [
    {
     "name": "stdout",
     "output_type": "stream",
     "text": [
      "Companies in companies DF and not in rounds2 DF : 5\n",
      "Companies in rounds2 DF and not in companies DF : 7\n"
     ]
    }
   ],
   "source": [
    "# Let's try to find how many unique companies there are in each DF\n",
    "a = companies['permalink']\n",
    "b = rounds2['company_permalink']\n",
    "\n",
    "# Companies in companies DF and not in rounds2 DF\n",
    "c = pd.Series(list(set(a) - set(b)))\n",
    "\n",
    "# Companies in rounds2 DF and not in companies DF\n",
    "d = pd.Series(list(set(b) - set(a)))\n",
    "\n",
    "print(\"Companies in companies DF and not in rounds2 DF : {}\".format(len(c)))\n",
    "print(\"Companies in rounds2 DF and not in companies DF : {}\".format(len(d)))"
   ]
  },
  {
   "cell_type": "markdown",
   "metadata": {},
   "source": [
    "#### Merge rounds2 and companies, such that all the variables in companies are merged in rounds2"
   ]
  },
  {
   "cell_type": "code",
   "execution_count": 367,
   "metadata": {},
   "outputs": [],
   "source": [
    "master_frame = rounds2.merge(companies, how='left', left_on='company_permalink', right_on='permalink')"
   ]
  },
  {
   "cell_type": "markdown",
   "metadata": {},
   "source": [
    "#### Q. How many observations are present in master_frame ?"
   ]
  },
  {
   "cell_type": "code",
   "execution_count": 368,
   "metadata": {},
   "outputs": [
    {
     "data": {
      "text/plain": [
       "114949"
      ]
     },
     "execution_count": 368,
     "metadata": {},
     "output_type": "execute_result"
    }
   ],
   "source": [
    "master_frame.shape[0]"
   ]
  },
  {
   "cell_type": "markdown",
   "metadata": {},
   "source": [
    "### Checkpoint 2: Funding Type Analysis"
   ]
  },
  {
   "cell_type": "code",
   "execution_count": 369,
   "metadata": {},
   "outputs": [
    {
     "name": "stdout",
     "output_type": "stream",
     "text": [
      "0\n",
      "['venture' 'seed' 'undisclosed' 'equity_crowdfunding' 'convertible_note'\n",
      " 'private_equity' 'debt_financing' 'angel' 'grant' 'secondary_market'\n",
      " 'post_ipo_equity' 'post_ipo_debt' 'product_crowdfunding'\n",
      " 'non_equity_assistance']\n"
     ]
    }
   ],
   "source": [
    "# How many null values in funding_round_type\n",
    "print(master_frame['funding_round_type'].isnull().sum())\n",
    "\n",
    "# as there are only 5 values with null funding_round_type, can be removed\n",
    "master_frame = master_frame[~master_frame['funding_round_type'].isnull()]\n",
    "\n",
    "# How many unique values in funding_round_type\n",
    "print(master_frame['funding_round_type'].unique())\n",
    "\n",
    "venture = master_frame.loc[master_frame['funding_round_type'] == 'venture']\n",
    "angel = master_frame.loc[master_frame['funding_round_type'] == 'angel']\n",
    "seed = master_frame.loc[master_frame['funding_round_type'] == 'seed']\n",
    "private_equity = master_frame.loc[master_frame['funding_round_type'] == 'private_equity']"
   ]
  },
  {
   "cell_type": "markdown",
   "metadata": {},
   "source": [
    "#### Q. Average funding amount of venture type"
   ]
  },
  {
   "cell_type": "code",
   "execution_count": 370,
   "metadata": {},
   "outputs": [
    {
     "name": "stdout",
     "output_type": "stream",
     "text": [
      "Average Raised Amount for Venture : 11748949.13\n",
      "Number of investment for Venture : 55494\n"
     ]
    }
   ],
   "source": [
    "print(\"Average Raised Amount for Venture : {}\".format(round(venture['raised_amount_usd'].mean(),2)))\n",
    "print(\"Number of investment for Venture : {}\".format(len(venture)))"
   ]
  },
  {
   "cell_type": "markdown",
   "metadata": {},
   "source": [
    "#### Q. Average funding amount of Angel type"
   ]
  },
  {
   "cell_type": "code",
   "execution_count": 371,
   "metadata": {},
   "outputs": [
    {
     "name": "stdout",
     "output_type": "stream",
     "text": [
      "Average Raised Amount for Angel : 958694.47\n",
      "Number of investment for Angel : 6094\n"
     ]
    }
   ],
   "source": [
    "print(\"Average Raised Amount for Angel : {}\".format(round(angel['raised_amount_usd'].mean(),2)))\n",
    "print(\"Number of investment for Angel : {}\".format(len(angel)))"
   ]
  },
  {
   "cell_type": "markdown",
   "metadata": {},
   "source": [
    "#### Q. Average funding amount of Seed type"
   ]
  },
  {
   "cell_type": "code",
   "execution_count": 372,
   "metadata": {},
   "outputs": [
    {
     "name": "stdout",
     "output_type": "stream",
     "text": [
      "Average Raised Amount for Seed : 719818.0\n",
      "Number of investment for Seed : 30524\n"
     ]
    }
   ],
   "source": [
    "print(\"Average Raised Amount for Seed : {}\".format(round(seed['raised_amount_usd'].mean(),2)))\n",
    "print(\"Number of investment for Seed : {}\".format(len(seed)))"
   ]
  },
  {
   "cell_type": "markdown",
   "metadata": {},
   "source": [
    "#### Q. Average funding amount of Private Equity type"
   ]
  },
  {
   "cell_type": "code",
   "execution_count": 373,
   "metadata": {},
   "outputs": [
    {
     "name": "stdout",
     "output_type": "stream",
     "text": [
      "Average Raised Amount for Private Equity : 73308593.03\n",
      "Number of investment for Private Equity : 2285\n"
     ]
    }
   ],
   "source": [
    "print(\"Average Raised Amount for Private Equity : {}\".format(round(private_equity['raised_amount_usd'].mean(),2)))\n",
    "print(\"Number of investment for Private Equity : {}\".format(len(private_equity)))"
   ]
  },
  {
   "cell_type": "markdown",
   "metadata": {},
   "source": [
    "#### Q. Based on the most representative investment amount calculated above, which investment type do you think is the most suitable for Spark Funds?\n",
    "Since Venture is the only data type with mean value between 5 and 15 million, this is the correct choice of fund type for Spark Funds."
   ]
  },
  {
   "cell_type": "markdown",
   "metadata": {},
   "source": [
    "## Checkpoints - Part 2\n",
    "### Checkpoint 3: Country Analysis"
   ]
  },
  {
   "cell_type": "code",
   "execution_count": 374,
   "metadata": {},
   "outputs": [],
   "source": [
    "# Remove entires with NaN raised_amount_usd\n",
    "venture = venture.loc[~venture['raised_amount_usd'].isnull()]\n",
    "# remove entires with NaN country\n",
    "venture = venture.loc[~venture['country_code'].isnull()]"
   ]
  },
  {
   "cell_type": "markdown",
   "metadata": {},
   "source": [
    "#### Q. Spark Funds wants to see the top nine countries which have received the highest total funding (across ALL sectors for the chosen investment type)"
   ]
  },
  {
   "cell_type": "code",
   "execution_count": 375,
   "metadata": {},
   "outputs": [
    {
     "data": {
      "text/html": [
       "<div>\n",
       "<style scoped>\n",
       "    .dataframe tbody tr th:only-of-type {\n",
       "        vertical-align: middle;\n",
       "    }\n",
       "\n",
       "    .dataframe tbody tr th {\n",
       "        vertical-align: top;\n",
       "    }\n",
       "\n",
       "    .dataframe thead th {\n",
       "        text-align: right;\n",
       "    }\n",
       "</style>\n",
       "<table border=\"1\" class=\"dataframe\">\n",
       "  <thead>\n",
       "    <tr style=\"text-align: right;\">\n",
       "      <th></th>\n",
       "      <th>raised_amount_usd</th>\n",
       "    </tr>\n",
       "    <tr>\n",
       "      <th>country_code</th>\n",
       "      <th></th>\n",
       "    </tr>\n",
       "  </thead>\n",
       "  <tbody>\n",
       "    <tr>\n",
       "      <th>USA</th>\n",
       "      <td>4.225108e+11</td>\n",
       "    </tr>\n",
       "    <tr>\n",
       "      <th>CHN</th>\n",
       "      <td>3.983542e+10</td>\n",
       "    </tr>\n",
       "    <tr>\n",
       "      <th>GBR</th>\n",
       "      <td>2.024563e+10</td>\n",
       "    </tr>\n",
       "    <tr>\n",
       "      <th>IND</th>\n",
       "      <td>1.439186e+10</td>\n",
       "    </tr>\n",
       "    <tr>\n",
       "      <th>CAN</th>\n",
       "      <td>9.583332e+09</td>\n",
       "    </tr>\n",
       "    <tr>\n",
       "      <th>FRA</th>\n",
       "      <td>7.259537e+09</td>\n",
       "    </tr>\n",
       "    <tr>\n",
       "      <th>ISR</th>\n",
       "      <td>6.907515e+09</td>\n",
       "    </tr>\n",
       "    <tr>\n",
       "      <th>DEU</th>\n",
       "      <td>6.346960e+09</td>\n",
       "    </tr>\n",
       "    <tr>\n",
       "      <th>JPN</th>\n",
       "      <td>3.363677e+09</td>\n",
       "    </tr>\n",
       "  </tbody>\n",
       "</table>\n",
       "</div>"
      ],
      "text/plain": [
       "              raised_amount_usd\n",
       "country_code                   \n",
       "USA                4.225108e+11\n",
       "CHN                3.983542e+10\n",
       "GBR                2.024563e+10\n",
       "IND                1.439186e+10\n",
       "CAN                9.583332e+09\n",
       "FRA                7.259537e+09\n",
       "ISR                6.907515e+09\n",
       "DEU                6.346960e+09\n",
       "JPN                3.363677e+09"
      ]
     },
     "execution_count": 375,
     "metadata": {},
     "output_type": "execute_result"
    }
   ],
   "source": [
    "# venture.groupby('country_code').sum().sort_values(by='raised_amount_usd', ascending=False).index.values[0:9]\n",
    "venture.groupby('country_code').sum().sort_values(by='raised_amount_usd', ascending=False)[0:9]"
   ]
  },
  {
   "cell_type": "markdown",
   "metadata": {},
   "source": [
    "#### Q. Top 3 English-Speaking Countries\n",
    "Since China is not a English speaking country, So, top English speaking countries would be USA, Great Britain and India"
   ]
  },
  {
   "cell_type": "code",
   "execution_count": 376,
   "metadata": {},
   "outputs": [],
   "source": [
    "# Now, make top9\n",
    "top9 = venture[(venture['country_code'] == 'USA') | (venture['country_code'] == 'CHN') | (venture['country_code'] == 'GBR') \n",
    "           | (venture['country_code'] == 'IND') | (venture['country_code'] == 'CAN') | (venture['country_code'] == 'FRA')\n",
    "           | (venture['country_code'] == 'ISR') | (venture['country_code'] == 'DEU') | (venture['country_code'] == 'JPN')]\n",
    "\n",
    "# Remove empty category_list\n",
    "top9 = top9[~top9['category_list'].isnull()]\n",
    "\n",
    "# Fetch primary_sector from category_list\n",
    "top9['primary_sector'] = top9['category_list'].apply(lambda x: x.split('|')[0])"
   ]
  },
  {
   "cell_type": "code",
   "execution_count": 377,
   "metadata": {},
   "outputs": [],
   "source": [
    "# Read Mapping csv now\n",
    "mapping = pd.read_table('mapping.csv', encoding='latin1', sep= ',')"
   ]
  },
  {
   "cell_type": "code",
   "execution_count": 378,
   "metadata": {},
   "outputs": [],
   "source": [
    "# Remove Blanks column\n",
    "mapping = mapping.drop(columns=['Blanks'])\n",
    "\n",
    "# Remove row with empty category_list\n",
    "mapping = mapping[~mapping['category_list'].isnull()]"
   ]
  },
  {
   "cell_type": "markdown",
   "metadata": {},
   "source": [
    "### Checkpoint 4: Sector Analysis 1"
   ]
  },
  {
   "cell_type": "code",
   "execution_count": 379,
   "metadata": {},
   "outputs": [],
   "source": [
    "# Create mapping_data_types to refer to later\n",
    "mapping_data_types = ['', 'Automotive & Sports', 'Cleantech / Semiconductors',  'Entertainment', 'Health', \n",
    "                      'Manufacturing', 'News, Search and Messaging', 'Others', \n",
    "                      'Social, Finance, Analytics, Advertising']\n",
    "\n",
    "# change values in mapping DF, So that columns with 1 will have column index as value instead of 1\n",
    "mapping[mapping_data_types[1]] = mapping[mapping_data_types[1]] * 1\n",
    "mapping[mapping_data_types[2]] = mapping[mapping_data_types[2]] * 2\n",
    "mapping[mapping_data_types[3]] = mapping[mapping_data_types[3]] * 3\n",
    "mapping[mapping_data_types[4]] = mapping[mapping_data_types[4]] * 4\n",
    "mapping[mapping_data_types[5]] = mapping[mapping_data_types[5]] * 5\n",
    "mapping[mapping_data_types[6]] = mapping[mapping_data_types[6]] * 6\n",
    "mapping[mapping_data_types[7]] = mapping[mapping_data_types[7]] * 7\n",
    "mapping[mapping_data_types[8]] = mapping[mapping_data_types[8]] * 8"
   ]
  },
  {
   "cell_type": "code",
   "execution_count": 380,
   "metadata": {},
   "outputs": [],
   "source": [
    "# Create a new column which will have category value for each row\n",
    "mapping['category_value'] = mapping.sum(axis=1)"
   ]
  },
  {
   "cell_type": "code",
   "execution_count": 381,
   "metadata": {},
   "outputs": [],
   "source": [
    "def set_main_sector(x):\n",
    "    category = mapping[mapping['category_list'] == x]\n",
    "    \n",
    "    if len(category) == 1:\n",
    "        return mapping_data_types[category['category_value'].values[0]]\n",
    "\n",
    "# set main sector in top9 DF now\n",
    "top9['main_sector'] = top9['primary_sector'].map(set_main_sector)"
   ]
  },
  {
   "cell_type": "code",
   "execution_count": 382,
   "metadata": {},
   "outputs": [],
   "source": [
    "# since there are 2869 entries in top9 with no main_sector associated, we shall remove such rows from top9\n",
    "top9 = top9[~top9['main_sector'].isnull()]"
   ]
  },
  {
   "cell_type": "markdown",
   "metadata": {},
   "source": [
    "### Checkpoint 5: Sector Analysis 2"
   ]
  },
  {
   "cell_type": "code",
   "execution_count": 383,
   "metadata": {},
   "outputs": [],
   "source": [
    "# Now we know following information\n",
    "# 1. Top 3 English speaking countries with highest investment are USA, GBR and CAN.\n",
    "# 2. The range of funding preferred by Spark Funds is 5 to 15 million USD. \n",
    "# 3. Venture Fund Type is preferred Fund Type.\n",
    "#\n",
    "# The aim is to find out the most heavily invested main sectors in each of the three countries\n",
    "\n",
    "D1 = top9[(top9['country_code'] == 'USA') & (5000000 <= top9['raised_amount_usd']) & (top9['raised_amount_usd'] <= 15000000)]\n",
    "D2 = top9[(top9['country_code'] == 'GBR') & (5000000 <= top9['raised_amount_usd']) & (top9['raised_amount_usd'] <= 15000000)]\n",
    "D3 = top9[(top9['country_code'] == 'CAN') & (5000000 <= top9['raised_amount_usd']) & (top9['raised_amount_usd'] <= 15000000)]"
   ]
  },
  {
   "cell_type": "code",
   "execution_count": 384,
   "metadata": {},
   "outputs": [
    {
     "name": "stdout",
     "output_type": "stream",
     "text": [
      "Total number of investment in C1 : 11149\n",
      "Total amount of investment in C1 : 99661524549.0\n",
      "Total number of investment in C2 : 577\n",
      "Total amount of investment in C2 : 5028704358.0\n",
      "Total number of investment in C3 : 394\n",
      "Total amount of investment in C3 : 3374289958.0\n"
     ]
    }
   ],
   "source": [
    "print(\"Total number of investment in C1 : {}\".format(len(D1['raised_amount_usd'])))\n",
    "print(\"Total amount of investment in C1 : {}\".format(D1['raised_amount_usd'].sum()))\n",
    "\n",
    "print(\"Total number of investment in C2 : {}\".format(len(D2['raised_amount_usd'])))\n",
    "print(\"Total amount of investment in C2 : {}\".format(D2['raised_amount_usd'].sum()))\n",
    "\n",
    "print(\"Total number of investment in C3 : {}\".format(len(D3['raised_amount_usd'])))\n",
    "print(\"Total amount of investment in C3 : {}\".format(D3['raised_amount_usd'].sum()))"
   ]
  },
  {
   "cell_type": "code",
   "execution_count": 385,
   "metadata": {},
   "outputs": [
    {
     "name": "stdout",
     "output_type": "stream",
     "text": [
      "Top Sectors Names (No of Investment wise) in C1\n"
     ]
    },
    {
     "data": {
      "text/html": [
       "<div>\n",
       "<style scoped>\n",
       "    .dataframe tbody tr th:only-of-type {\n",
       "        vertical-align: middle;\n",
       "    }\n",
       "\n",
       "    .dataframe tbody tr th {\n",
       "        vertical-align: top;\n",
       "    }\n",
       "\n",
       "    .dataframe thead th {\n",
       "        text-align: right;\n",
       "    }\n",
       "</style>\n",
       "<table border=\"1\" class=\"dataframe\">\n",
       "  <thead>\n",
       "    <tr style=\"text-align: right;\">\n",
       "      <th></th>\n",
       "      <th>count</th>\n",
       "      <th>sum</th>\n",
       "    </tr>\n",
       "    <tr>\n",
       "      <th>main_sector</th>\n",
       "      <th></th>\n",
       "      <th></th>\n",
       "    </tr>\n",
       "  </thead>\n",
       "  <tbody>\n",
       "    <tr>\n",
       "      <th>Others</th>\n",
       "      <td>2923</td>\n",
       "      <td>2.608928e+10</td>\n",
       "    </tr>\n",
       "    <tr>\n",
       "      <th>Cleantech / Semiconductors</th>\n",
       "      <td>2297</td>\n",
       "      <td>2.118100e+10</td>\n",
       "    </tr>\n",
       "    <tr>\n",
       "      <th>Social, Finance, Analytics, Advertising</th>\n",
       "      <td>1912</td>\n",
       "      <td>1.668070e+10</td>\n",
       "    </tr>\n",
       "  </tbody>\n",
       "</table>\n",
       "</div>"
      ],
      "text/plain": [
       "                                         count           sum\n",
       "main_sector                                                 \n",
       "Others                                    2923  2.608928e+10\n",
       "Cleantech / Semiconductors                2297  2.118100e+10\n",
       "Social, Finance, Analytics, Advertising   1912  1.668070e+10"
      ]
     },
     "execution_count": 385,
     "metadata": {},
     "output_type": "execute_result"
    }
   ],
   "source": [
    "print(\"Top Sectors Names (No of Investment wise) in C1\")\n",
    "D1.groupby('main_sector')['raised_amount_usd'].agg(['count', 'sum']).sort_values(by = 'count', ascending = False).head(3)"
   ]
  },
  {
   "cell_type": "code",
   "execution_count": 386,
   "metadata": {},
   "outputs": [
    {
     "name": "stdout",
     "output_type": "stream",
     "text": [
      "Top Sectors Names (No of Investment wise) in C2\n"
     ]
    },
    {
     "data": {
      "text/html": [
       "<div>\n",
       "<style scoped>\n",
       "    .dataframe tbody tr th:only-of-type {\n",
       "        vertical-align: middle;\n",
       "    }\n",
       "\n",
       "    .dataframe tbody tr th {\n",
       "        vertical-align: top;\n",
       "    }\n",
       "\n",
       "    .dataframe thead th {\n",
       "        text-align: right;\n",
       "    }\n",
       "</style>\n",
       "<table border=\"1\" class=\"dataframe\">\n",
       "  <thead>\n",
       "    <tr style=\"text-align: right;\">\n",
       "      <th></th>\n",
       "      <th>count</th>\n",
       "      <th>sum</th>\n",
       "    </tr>\n",
       "    <tr>\n",
       "      <th>main_sector</th>\n",
       "      <th></th>\n",
       "      <th></th>\n",
       "    </tr>\n",
       "  </thead>\n",
       "  <tbody>\n",
       "    <tr>\n",
       "      <th>Others</th>\n",
       "      <td>143</td>\n",
       "      <td>1.249124e+09</td>\n",
       "    </tr>\n",
       "    <tr>\n",
       "      <th>Cleantech / Semiconductors</th>\n",
       "      <td>127</td>\n",
       "      <td>1.136905e+09</td>\n",
       "    </tr>\n",
       "    <tr>\n",
       "      <th>Social, Finance, Analytics, Advertising</th>\n",
       "      <td>98</td>\n",
       "      <td>8.218884e+08</td>\n",
       "    </tr>\n",
       "  </tbody>\n",
       "</table>\n",
       "</div>"
      ],
      "text/plain": [
       "                                         count           sum\n",
       "main_sector                                                 \n",
       "Others                                     143  1.249124e+09\n",
       "Cleantech / Semiconductors                 127  1.136905e+09\n",
       "Social, Finance, Analytics, Advertising     98  8.218884e+08"
      ]
     },
     "execution_count": 386,
     "metadata": {},
     "output_type": "execute_result"
    }
   ],
   "source": [
    "print(\"Top Sectors Names (No of Investment wise) in C2\")\n",
    "D2.groupby('main_sector')['raised_amount_usd'].agg(['count', 'sum']).sort_values(by = 'count', ascending = False).head(3)"
   ]
  },
  {
   "cell_type": "code",
   "execution_count": 387,
   "metadata": {},
   "outputs": [
    {
     "name": "stdout",
     "output_type": "stream",
     "text": [
      "Top Sectors Names (No of Investment wise) in C3\n"
     ]
    },
    {
     "data": {
      "text/html": [
       "<div>\n",
       "<style scoped>\n",
       "    .dataframe tbody tr th:only-of-type {\n",
       "        vertical-align: middle;\n",
       "    }\n",
       "\n",
       "    .dataframe tbody tr th {\n",
       "        vertical-align: top;\n",
       "    }\n",
       "\n",
       "    .dataframe thead th {\n",
       "        text-align: right;\n",
       "    }\n",
       "</style>\n",
       "<table border=\"1\" class=\"dataframe\">\n",
       "  <thead>\n",
       "    <tr style=\"text-align: right;\">\n",
       "      <th></th>\n",
       "      <th>count</th>\n",
       "      <th>sum</th>\n",
       "    </tr>\n",
       "    <tr>\n",
       "      <th>main_sector</th>\n",
       "      <th></th>\n",
       "      <th></th>\n",
       "    </tr>\n",
       "  </thead>\n",
       "  <tbody>\n",
       "    <tr>\n",
       "      <th>Cleantech / Semiconductors</th>\n",
       "      <td>112</td>\n",
       "      <td>1.015888e+09</td>\n",
       "    </tr>\n",
       "    <tr>\n",
       "      <th>Others</th>\n",
       "      <td>109</td>\n",
       "      <td>9.261380e+08</td>\n",
       "    </tr>\n",
       "    <tr>\n",
       "      <th>Social, Finance, Analytics, Advertising</th>\n",
       "      <td>52</td>\n",
       "      <td>4.433431e+08</td>\n",
       "    </tr>\n",
       "  </tbody>\n",
       "</table>\n",
       "</div>"
      ],
      "text/plain": [
       "                                         count           sum\n",
       "main_sector                                                 \n",
       "Cleantech / Semiconductors                 112  1.015888e+09\n",
       "Others                                     109  9.261380e+08\n",
       "Social, Finance, Analytics, Advertising     52  4.433431e+08"
      ]
     },
     "execution_count": 387,
     "metadata": {},
     "output_type": "execute_result"
    }
   ],
   "source": [
    "print(\"Top Sectors Names (No of Investment wise) in C3\")\n",
    "D3.groupby('main_sector')['raised_amount_usd'].agg(['count', 'sum']).sort_values(by = 'count', ascending = False).head(3)"
   ]
  },
  {
   "cell_type": "code",
   "execution_count": 388,
   "metadata": {},
   "outputs": [],
   "source": [
    "def set_count_and_sum(x):\n",
    "    rows_with_main_sector = D1[D1['main_sector'] == x]\n",
    "    \n",
    "    rows_with_main_sector['main_sector_count'] = temp.loc[x]['count']\n",
    "    rows_with_main_sector['main_sector_sum'] = temp.loc[x]['sum']\n",
    "    \n",
    "    print(rows_with_main_sector.columns)\n",
    "\n",
    "#temp.index.map(set_count_and_sum)"
   ]
  },
  {
   "cell_type": "code",
   "execution_count": 389,
   "metadata": {},
   "outputs": [
    {
     "data": {
      "text/html": [
       "<div>\n",
       "<style scoped>\n",
       "    .dataframe tbody tr th:only-of-type {\n",
       "        vertical-align: middle;\n",
       "    }\n",
       "\n",
       "    .dataframe tbody tr th {\n",
       "        vertical-align: top;\n",
       "    }\n",
       "\n",
       "    .dataframe thead th {\n",
       "        text-align: right;\n",
       "    }\n",
       "</style>\n",
       "<table border=\"1\" class=\"dataframe\">\n",
       "  <thead>\n",
       "    <tr style=\"text-align: right;\">\n",
       "      <th></th>\n",
       "      <th>sum</th>\n",
       "    </tr>\n",
       "    <tr>\n",
       "      <th>name</th>\n",
       "      <th></th>\n",
       "    </tr>\n",
       "  </thead>\n",
       "  <tbody>\n",
       "    <tr>\n",
       "      <th>Virtustream</th>\n",
       "      <td>64300000.0</td>\n",
       "    </tr>\n",
       "    <tr>\n",
       "      <th>Capella Photonics</th>\n",
       "      <td>54968051.0</td>\n",
       "    </tr>\n",
       "    <tr>\n",
       "      <th>AirTight Networks</th>\n",
       "      <td>54201907.0</td>\n",
       "    </tr>\n",
       "  </tbody>\n",
       "</table>\n",
       "</div>"
      ],
      "text/plain": [
       "                          sum\n",
       "name                         \n",
       "Virtustream        64300000.0\n",
       "Capella Photonics  54968051.0\n",
       "AirTight Networks  54201907.0"
      ]
     },
     "execution_count": 389,
     "metadata": {},
     "output_type": "execute_result"
    }
   ],
   "source": [
    "D1[D1['main_sector'] == 'Others'].groupby('name')['raised_amount_usd'].agg(['sum']).sort_values(\n",
    "    by = 'sum', ascending = False).head(3)"
   ]
  },
  {
   "cell_type": "code",
   "execution_count": 390,
   "metadata": {},
   "outputs": [
    {
     "data": {
      "text/html": [
       "<div>\n",
       "<style scoped>\n",
       "    .dataframe tbody tr th:only-of-type {\n",
       "        vertical-align: middle;\n",
       "    }\n",
       "\n",
       "    .dataframe tbody tr th {\n",
       "        vertical-align: top;\n",
       "    }\n",
       "\n",
       "    .dataframe thead th {\n",
       "        text-align: right;\n",
       "    }\n",
       "</style>\n",
       "<table border=\"1\" class=\"dataframe\">\n",
       "  <thead>\n",
       "    <tr style=\"text-align: right;\">\n",
       "      <th></th>\n",
       "      <th>sum</th>\n",
       "    </tr>\n",
       "    <tr>\n",
       "      <th>name</th>\n",
       "      <th></th>\n",
       "    </tr>\n",
       "  </thead>\n",
       "  <tbody>\n",
       "    <tr>\n",
       "      <th>Electric Cloud</th>\n",
       "      <td>37000000.0</td>\n",
       "    </tr>\n",
       "    <tr>\n",
       "      <th>SenSage</th>\n",
       "      <td>36250000.0</td>\n",
       "    </tr>\n",
       "    <tr>\n",
       "      <th>Enigmatec</th>\n",
       "      <td>32500000.0</td>\n",
       "    </tr>\n",
       "  </tbody>\n",
       "</table>\n",
       "</div>"
      ],
      "text/plain": [
       "                       sum\n",
       "name                      \n",
       "Electric Cloud  37000000.0\n",
       "SenSage         36250000.0\n",
       "Enigmatec       32500000.0"
      ]
     },
     "execution_count": 390,
     "metadata": {},
     "output_type": "execute_result"
    }
   ],
   "source": [
    "D2[D2['main_sector'] == 'Others'].groupby('name')['raised_amount_usd'].agg(['sum']).sort_values(\n",
    "    by = 'sum', ascending = False).head(3)"
   ]
  },
  {
   "cell_type": "markdown",
   "metadata": {},
   "source": [
    "D3[D3['main_sector'] == 'Cleantech / Semiconductors'].groupby('name')['raised_amount_usd'].agg(['sum']).sort_values(\n",
    "    by = 'sum', ascending = False).head(3)"
   ]
  },
  {
   "cell_type": "markdown",
   "metadata": {},
   "source": [
    "### Checkpoint 6: Plots"
   ]
  },
  {
   "cell_type": "markdown",
   "metadata": {},
   "source": [
    "#### Q. A plot showing the fraction of total investments (globally) in venture, seed, and private equity, and the average amount of investment in each funding type."
   ]
  },
  {
   "cell_type": "code",
   "execution_count": 403,
   "metadata": {},
   "outputs": [],
   "source": [
    "# Get all rows that we require in plot1\n",
    "plot1 = master_frame[(master_frame['funding_round_type'] == 'venture') | \n",
    "    (master_frame['funding_round_type'] == 'seed') | \n",
    "    (master_frame['funding_round_type'] == 'private_equity')]\n",
    "\n",
    "# Get all rows in master_frame and set funding_round_type as all\n",
    "temp = master_frame.copy(deep = True)\n",
    "temp.loc[:, ('funding_round_type')] = 'all'\n",
    "\n",
    "# append to plot1\n",
    "plot1 = plot1.append(temp)"
   ]
  },
  {
   "cell_type": "code",
   "execution_count": 404,
   "metadata": {},
   "outputs": [
    {
     "data": {
      "image/png": "[encoded data removed]",
      "text/plain": [
       "<Figure size 1280x640 with 1 Axes>"
      ]
     },
     "metadata": {},
     "output_type": "display_data"
    }
   ],
   "source": [
    "# Solution Plot 1\n",
    "# Setup Plot\n",
    "plt.figure(num=None, figsize=(16, 8), dpi=80, facecolor='w', edgecolor='k')\n",
    "plt.yscale('log')\n",
    "\n",
    "\n",
    "# Show Plot\n",
    "sns.boxplot(x='funding_round_type', y='raised_amount_usd', data=plot1)\n",
    "plt.show()"
   ]
  },
  {
   "cell_type": "markdown",
   "metadata": {},
   "source": [
    "#### Q. A plot showing the top 9 countries against the total amount of investments of funding type FT. "
   ]
  },
  {
   "cell_type": "code",
   "execution_count": 393,
   "metadata": {},
   "outputs": [
    {
     "data": {
      "text/html": [
       "<div>\n",
       "<style scoped>\n",
       "    .dataframe tbody tr th:only-of-type {\n",
       "        vertical-align: middle;\n",
       "    }\n",
       "\n",
       "    .dataframe tbody tr th {\n",
       "        vertical-align: top;\n",
       "    }\n",
       "\n",
       "    .dataframe thead th {\n",
       "        text-align: right;\n",
       "    }\n",
       "</style>\n",
       "<table border=\"1\" class=\"dataframe\">\n",
       "  <thead>\n",
       "    <tr style=\"text-align: right;\">\n",
       "      <th></th>\n",
       "      <th>sum</th>\n",
       "    </tr>\n",
       "    <tr>\n",
       "      <th>country_code</th>\n",
       "      <th></th>\n",
       "    </tr>\n",
       "  </thead>\n",
       "  <tbody>\n",
       "    <tr>\n",
       "      <th>USA</th>\n",
       "      <td>3.922376e+11</td>\n",
       "    </tr>\n",
       "    <tr>\n",
       "      <th>CHN</th>\n",
       "      <td>3.703144e+10</td>\n",
       "    </tr>\n",
       "    <tr>\n",
       "      <th>GBR</th>\n",
       "      <td>1.892439e+10</td>\n",
       "    </tr>\n",
       "    <tr>\n",
       "      <th>IND</th>\n",
       "      <td>1.353798e+10</td>\n",
       "    </tr>\n",
       "    <tr>\n",
       "      <th>CAN</th>\n",
       "      <td>8.715621e+09</td>\n",
       "    </tr>\n",
       "    <tr>\n",
       "      <th>FRA</th>\n",
       "      <td>7.033840e+09</td>\n",
       "    </tr>\n",
       "    <tr>\n",
       "      <th>ISR</th>\n",
       "      <td>6.520700e+09</td>\n",
       "    </tr>\n",
       "    <tr>\n",
       "      <th>DEU</th>\n",
       "      <td>5.751654e+09</td>\n",
       "    </tr>\n",
       "    <tr>\n",
       "      <th>JPN</th>\n",
       "      <td>2.798747e+09</td>\n",
       "    </tr>\n",
       "  </tbody>\n",
       "</table>\n",
       "</div>"
      ],
      "text/plain": [
       "                       sum\n",
       "country_code              \n",
       "USA           3.922376e+11\n",
       "CHN           3.703144e+10\n",
       "GBR           1.892439e+10\n",
       "IND           1.353798e+10\n",
       "CAN           8.715621e+09\n",
       "FRA           7.033840e+09\n",
       "ISR           6.520700e+09\n",
       "DEU           5.751654e+09\n",
       "JPN           2.798747e+09"
      ]
     },
     "execution_count": 393,
     "metadata": {},
     "output_type": "execute_result"
    }
   ],
   "source": [
    "top9.groupby('country_code')['raised_amount_usd'].agg(['sum']).sort_values(by = 'sum', ascending = False)"
   ]
  },
  {
   "cell_type": "code",
   "execution_count": 394,
   "metadata": {},
   "outputs": [
    {
     "data": {
      "image/png": "[encoded data removed]",
      "text/plain": [
       "<Figure size 432x288 with 1 Axes>"
      ]
     },
     "metadata": {},
     "output_type": "display_data"
    }
   ],
   "source": [
    "# Solution Plot 2\n",
    "plt.yscale('log')\n",
    "\n",
    "sns.barplot(x='country_code', y='raised_amount_usd', data=top9, estimator=sum)\n",
    "plt.show()"
   ]
  },
  {
   "cell_type": "markdown",
   "metadata": {},
   "source": [
    "#### Q. A plot showing the number of investments in the top 3 sectors of the top 3 countries on one chart (for the chosen investment type FT)."
   ]
  },
  {
   "cell_type": "code",
   "execution_count": 395,
   "metadata": {},
   "outputs": [],
   "source": [
    "top3 = top9[\n",
    "        (\n",
    "            (top9['country_code'] == 'USA') & \n",
    "            (\n",
    "                (top9['main_sector'] == 'Others') |\n",
    "                (top9['main_sector'] == 'Cleantech / Semiconductors') |\n",
    "                (top9['main_sector'] == 'Social, Finance, Analytics, Advertising')\n",
    "            )\n",
    "        ) | \n",
    "        (\n",
    "            (top9['country_code'] == 'GBR') & \n",
    "            (\n",
    "                (top9['main_sector'] == 'Others') |\n",
    "                (top9['main_sector'] == 'Cleantech / Semiconductors') |\n",
    "                (top9['main_sector'] == 'Social, Finance, Analytics, Advertising')\n",
    "            )\n",
    "        ) |\n",
    "        (\n",
    "            (top9['country_code'] == 'IND') & \n",
    "            (\n",
    "                (top9['main_sector'] == 'Others') |\n",
    "                (top9['main_sector'] == 'Cleantech / Semiconductors') |\n",
    "                (top9['main_sector'] == 'Social, Finance, Analytics, Advertising')\n",
    "            )\n",
    "        )\n",
    "        ]"
   ]
  },
  {
   "cell_type": "code",
   "execution_count": 396,
   "metadata": {},
   "outputs": [
    {
     "data": {
      "text/html": [
       "<div>\n",
       "<style scoped>\n",
       "    .dataframe tbody tr th:only-of-type {\n",
       "        vertical-align: middle;\n",
       "    }\n",
       "\n",
       "    .dataframe tbody tr th {\n",
       "        vertical-align: top;\n",
       "    }\n",
       "\n",
       "    .dataframe thead th {\n",
       "        text-align: right;\n",
       "    }\n",
       "</style>\n",
       "<table border=\"1\" class=\"dataframe\">\n",
       "  <thead>\n",
       "    <tr style=\"text-align: right;\">\n",
       "      <th></th>\n",
       "      <th></th>\n",
       "      <th>sum</th>\n",
       "      <th>count</th>\n",
       "    </tr>\n",
       "    <tr>\n",
       "      <th>country_code</th>\n",
       "      <th>main_sector</th>\n",
       "      <th></th>\n",
       "      <th></th>\n",
       "    </tr>\n",
       "  </thead>\n",
       "  <tbody>\n",
       "    <tr>\n",
       "      <th rowspan=\"3\" valign=\"top\">GBR</th>\n",
       "      <th>Cleantech / Semiconductors</th>\n",
       "      <td>5.028729e+09</td>\n",
       "      <td>433</td>\n",
       "    </tr>\n",
       "    <tr>\n",
       "      <th>Others</th>\n",
       "      <td>4.400423e+09</td>\n",
       "      <td>507</td>\n",
       "    </tr>\n",
       "    <tr>\n",
       "      <th>Social, Finance, Analytics, Advertising</th>\n",
       "      <td>2.851116e+09</td>\n",
       "      <td>318</td>\n",
       "    </tr>\n",
       "    <tr>\n",
       "      <th rowspan=\"3\" valign=\"top\">IND</th>\n",
       "      <th>Cleantech / Semiconductors</th>\n",
       "      <td>7.864446e+08</td>\n",
       "      <td>54</td>\n",
       "    </tr>\n",
       "    <tr>\n",
       "      <th>Others</th>\n",
       "      <td>6.318507e+09</td>\n",
       "      <td>281</td>\n",
       "    </tr>\n",
       "    <tr>\n",
       "      <th>Social, Finance, Analytics, Advertising</th>\n",
       "      <td>8.667639e+08</td>\n",
       "      <td>77</td>\n",
       "    </tr>\n",
       "    <tr>\n",
       "      <th rowspan=\"3\" valign=\"top\">USA</th>\n",
       "      <th>Cleantech / Semiconductors</th>\n",
       "      <td>1.187644e+11</td>\n",
       "      <td>7849</td>\n",
       "    </tr>\n",
       "    <tr>\n",
       "      <th>Others</th>\n",
       "      <td>8.208458e+10</td>\n",
       "      <td>8243</td>\n",
       "    </tr>\n",
       "    <tr>\n",
       "      <th>Social, Finance, Analytics, Advertising</th>\n",
       "      <td>6.206299e+10</td>\n",
       "      <td>5156</td>\n",
       "    </tr>\n",
       "  </tbody>\n",
       "</table>\n",
       "</div>"
      ],
      "text/plain": [
       "                                                               sum  count\n",
       "country_code main_sector                                                 \n",
       "GBR          Cleantech / Semiconductors               5.028729e+09    433\n",
       "             Others                                   4.400423e+09    507\n",
       "             Social, Finance, Analytics, Advertising  2.851116e+09    318\n",
       "IND          Cleantech / Semiconductors               7.864446e+08     54\n",
       "             Others                                   6.318507e+09    281\n",
       "             Social, Finance, Analytics, Advertising  8.667639e+08     77\n",
       "USA          Cleantech / Semiconductors               1.187644e+11   7849\n",
       "             Others                                   8.208458e+10   8243\n",
       "             Social, Finance, Analytics, Advertising  6.206299e+10   5156"
      ]
     },
     "execution_count": 396,
     "metadata": {},
     "output_type": "execute_result"
    }
   ],
   "source": [
    "top3.groupby(['country_code', 'main_sector'])['raised_amount_usd'].agg(['sum', 'count'])"
   ]
  },
  {
   "cell_type": "code",
   "execution_count": 397,
   "metadata": {},
   "outputs": [
    {
     "data": {
      "image/png": "[encoded data removed]",
      "text/plain": [
       "<Figure size 432x288 with 1 Axes>"
      ]
     },
     "metadata": {},
     "output_type": "display_data"
    }
   ],
   "source": [
    "# Solution Plot 3\n",
    "plt.yscale('log')\n",
    "\n",
    "sns.countplot(x='main_sector', hue='country_code', data=top3)\n",
    "plt.show()"
   ]
  },
  {
   "cell_type": "code",
   "execution_count": null,
   "metadata": {},
   "outputs": [],
   "source": []
  }
 ],
 "metadata": {
  "kernelspec": {
   "display_name": "Python 3",
   "language": "python",
   "name": "python3"
  },
  "language_info": {
   "codemirror_mode": {
    "name": "ipython",
    "version": 3
   },
   "file_extension": ".py",
   "mimetype": "text/x-python",
   "name": "python",
   "nbconvert_exporter": "python",
   "pygments_lexer": "ipython3",
   "version": "3.6.7"
  }
 },
 "nbformat": 4,
 "nbformat_minor": 2
}
