{
 "cells": [
  {
   "cell_type": "markdown",
   "metadata": {},
   "source": [
    "# Load Data"
   ]
  },
  {
   "cell_type": "code",
   "execution_count": 129,
   "metadata": {},
   "outputs": [
    {
     "data": {
      "text/html": [
       "<div>\n",
       "<style scoped>\n",
       "    .dataframe tbody tr th:only-of-type {\n",
       "        vertical-align: middle;\n",
       "    }\n",
       "\n",
       "    .dataframe tbody tr th {\n",
       "        vertical-align: top;\n",
       "    }\n",
       "\n",
       "    .dataframe thead th {\n",
       "        text-align: right;\n",
       "    }\n",
       "</style>\n",
       "<table border=\"1\" class=\"dataframe\">\n",
       "  <thead>\n",
       "    <tr style=\"text-align: right;\">\n",
       "      <th></th>\n",
       "      <th>Suburb</th>\n",
       "      <th>Address</th>\n",
       "      <th>Rooms</th>\n",
       "      <th>Type</th>\n",
       "      <th>Price</th>\n",
       "      <th>Method</th>\n",
       "      <th>SellerG</th>\n",
       "      <th>Date</th>\n",
       "      <th>Distance</th>\n",
       "      <th>Postcode</th>\n",
       "      <th>...</th>\n",
       "      <th>Bathroom</th>\n",
       "      <th>Car</th>\n",
       "      <th>Landsize</th>\n",
       "      <th>BuildingArea</th>\n",
       "      <th>YearBuilt</th>\n",
       "      <th>CouncilArea</th>\n",
       "      <th>Lattitude</th>\n",
       "      <th>Longtitude</th>\n",
       "      <th>Regionname</th>\n",
       "      <th>Propertycount</th>\n",
       "    </tr>\n",
       "  </thead>\n",
       "  <tbody>\n",
       "    <tr>\n",
       "      <th>0</th>\n",
       "      <td>Abbotsford</td>\n",
       "      <td>68 Studley St</td>\n",
       "      <td>2</td>\n",
       "      <td>h</td>\n",
       "      <td>NaN</td>\n",
       "      <td>SS</td>\n",
       "      <td>Jellis</td>\n",
       "      <td>03-09-2016</td>\n",
       "      <td>2.5</td>\n",
       "      <td>3067.0</td>\n",
       "      <td>...</td>\n",
       "      <td>1.0</td>\n",
       "      <td>1.0</td>\n",
       "      <td>126.0</td>\n",
       "      <td>NaN</td>\n",
       "      <td>NaN</td>\n",
       "      <td>Yarra</td>\n",
       "      <td>-37.8014</td>\n",
       "      <td>144.9958</td>\n",
       "      <td>Northern Metropolitan</td>\n",
       "      <td>4019.0</td>\n",
       "    </tr>\n",
       "    <tr>\n",
       "      <th>1</th>\n",
       "      <td>Abbotsford</td>\n",
       "      <td>85 Turner St</td>\n",
       "      <td>2</td>\n",
       "      <td>h</td>\n",
       "      <td>1480000.0</td>\n",
       "      <td>S</td>\n",
       "      <td>Biggin</td>\n",
       "      <td>03-12-2016</td>\n",
       "      <td>2.5</td>\n",
       "      <td>3067.0</td>\n",
       "      <td>...</td>\n",
       "      <td>1.0</td>\n",
       "      <td>1.0</td>\n",
       "      <td>202.0</td>\n",
       "      <td>NaN</td>\n",
       "      <td>NaN</td>\n",
       "      <td>Yarra</td>\n",
       "      <td>-37.7996</td>\n",
       "      <td>144.9984</td>\n",
       "      <td>Northern Metropolitan</td>\n",
       "      <td>4019.0</td>\n",
       "    </tr>\n",
       "    <tr>\n",
       "      <th>2</th>\n",
       "      <td>Abbotsford</td>\n",
       "      <td>25 Bloomburg St</td>\n",
       "      <td>2</td>\n",
       "      <td>h</td>\n",
       "      <td>1035000.0</td>\n",
       "      <td>S</td>\n",
       "      <td>Biggin</td>\n",
       "      <td>04-02-2016</td>\n",
       "      <td>2.5</td>\n",
       "      <td>3067.0</td>\n",
       "      <td>...</td>\n",
       "      <td>1.0</td>\n",
       "      <td>0.0</td>\n",
       "      <td>156.0</td>\n",
       "      <td>79.0</td>\n",
       "      <td>1900.0</td>\n",
       "      <td>Yarra</td>\n",
       "      <td>-37.8079</td>\n",
       "      <td>144.9934</td>\n",
       "      <td>Northern Metropolitan</td>\n",
       "      <td>4019.0</td>\n",
       "    </tr>\n",
       "    <tr>\n",
       "      <th>3</th>\n",
       "      <td>Abbotsford</td>\n",
       "      <td>18/659 Victoria St</td>\n",
       "      <td>3</td>\n",
       "      <td>u</td>\n",
       "      <td>NaN</td>\n",
       "      <td>VB</td>\n",
       "      <td>Rounds</td>\n",
       "      <td>04-02-2016</td>\n",
       "      <td>2.5</td>\n",
       "      <td>3067.0</td>\n",
       "      <td>...</td>\n",
       "      <td>2.0</td>\n",
       "      <td>1.0</td>\n",
       "      <td>0.0</td>\n",
       "      <td>NaN</td>\n",
       "      <td>NaN</td>\n",
       "      <td>Yarra</td>\n",
       "      <td>-37.8114</td>\n",
       "      <td>145.0116</td>\n",
       "      <td>Northern Metropolitan</td>\n",
       "      <td>4019.0</td>\n",
       "    </tr>\n",
       "    <tr>\n",
       "      <th>4</th>\n",
       "      <td>Abbotsford</td>\n",
       "      <td>5 Charles St</td>\n",
       "      <td>3</td>\n",
       "      <td>h</td>\n",
       "      <td>1465000.0</td>\n",
       "      <td>SP</td>\n",
       "      <td>Biggin</td>\n",
       "      <td>04-03-2017</td>\n",
       "      <td>2.5</td>\n",
       "      <td>3067.0</td>\n",
       "      <td>...</td>\n",
       "      <td>2.0</td>\n",
       "      <td>0.0</td>\n",
       "      <td>134.0</td>\n",
       "      <td>150.0</td>\n",
       "      <td>1900.0</td>\n",
       "      <td>Yarra</td>\n",
       "      <td>-37.8093</td>\n",
       "      <td>144.9944</td>\n",
       "      <td>Northern Metropolitan</td>\n",
       "      <td>4019.0</td>\n",
       "    </tr>\n",
       "  </tbody>\n",
       "</table>\n",
       "<p>5 rows × 21 columns</p>\n",
       "</div>"
      ],
      "text/plain": [
       "       Suburb             Address  Rooms Type      Price Method SellerG  \\\n",
       "0  Abbotsford       68 Studley St      2    h        NaN     SS  Jellis   \n",
       "1  Abbotsford        85 Turner St      2    h  1480000.0      S  Biggin   \n",
       "2  Abbotsford     25 Bloomburg St      2    h  1035000.0      S  Biggin   \n",
       "3  Abbotsford  18/659 Victoria St      3    u        NaN     VB  Rounds   \n",
       "4  Abbotsford        5 Charles St      3    h  1465000.0     SP  Biggin   \n",
       "\n",
       "         Date  Distance  Postcode      ...       Bathroom  Car  Landsize  \\\n",
       "0  03-09-2016       2.5    3067.0      ...            1.0  1.0     126.0   \n",
       "1  03-12-2016       2.5    3067.0      ...            1.0  1.0     202.0   \n",
       "2  04-02-2016       2.5    3067.0      ...            1.0  0.0     156.0   \n",
       "3  04-02-2016       2.5    3067.0      ...            2.0  1.0       0.0   \n",
       "4  04-03-2017       2.5    3067.0      ...            2.0  0.0     134.0   \n",
       "\n",
       "   BuildingArea  YearBuilt  CouncilArea Lattitude  Longtitude  \\\n",
       "0           NaN        NaN        Yarra  -37.8014    144.9958   \n",
       "1           NaN        NaN        Yarra  -37.7996    144.9984   \n",
       "2          79.0     1900.0        Yarra  -37.8079    144.9934   \n",
       "3           NaN        NaN        Yarra  -37.8114    145.0116   \n",
       "4         150.0     1900.0        Yarra  -37.8093    144.9944   \n",
       "\n",
       "              Regionname Propertycount  \n",
       "0  Northern Metropolitan        4019.0  \n",
       "1  Northern Metropolitan        4019.0  \n",
       "2  Northern Metropolitan        4019.0  \n",
       "3  Northern Metropolitan        4019.0  \n",
       "4  Northern Metropolitan        4019.0  \n",
       "\n",
       "[5 rows x 21 columns]"
      ]
     },
     "execution_count": 129,
     "metadata": {},
     "output_type": "execute_result"
    }
   ],
   "source": [
    "import numpy as np\n",
    "import pandas as pd\n",
    "\n",
    "melbourne_df = pd.read_csv('dataset/melbourne.csv')\n",
    "melbourne_df.head()"
   ]
  },
  {
   "cell_type": "markdown",
   "metadata": {},
   "source": [
    "# Check data attributes"
   ]
  },
  {
   "cell_type": "code",
   "execution_count": 130,
   "metadata": {},
   "outputs": [
    {
     "name": "stdout",
     "output_type": "stream",
     "text": [
      "(23547, 21)\n",
      "<class 'pandas.core.frame.DataFrame'>\n",
      "RangeIndex: 23547 entries, 0 to 23546\n",
      "Data columns (total 21 columns):\n",
      "Suburb           23547 non-null object\n",
      "Address          23547 non-null object\n",
      "Rooms            23547 non-null int64\n",
      "Type             23547 non-null object\n",
      "Price            18396 non-null float64\n",
      "Method           23547 non-null object\n",
      "SellerG          23547 non-null object\n",
      "Date             23547 non-null object\n",
      "Distance         23546 non-null float64\n",
      "Postcode         23546 non-null float64\n",
      "Bedroom2         19066 non-null float64\n",
      "Bathroom         19063 non-null float64\n",
      "Car              18921 non-null float64\n",
      "Landsize         17410 non-null float64\n",
      "BuildingArea     10018 non-null float64\n",
      "YearBuilt        11540 non-null float64\n",
      "CouncilArea      15656 non-null object\n",
      "Lattitude        19243 non-null float64\n",
      "Longtitude       19243 non-null float64\n",
      "Regionname       23546 non-null object\n",
      "Propertycount    23546 non-null float64\n",
      "dtypes: float64(12), int64(1), object(8)\n",
      "memory usage: 3.8+ MB\n",
      "None\n"
     ]
    }
   ],
   "source": [
    "print(melbourne_df.shape)\n",
    "print(melbourne_df.info())"
   ]
  },
  {
   "cell_type": "markdown",
   "metadata": {},
   "source": [
    "# Check how many null"
   ]
  },
  {
   "cell_type": "code",
   "execution_count": 131,
   "metadata": {},
   "outputs": [
    {
     "data": {
      "text/plain": [
       "Suburb               0\n",
       "Address              0\n",
       "Rooms                0\n",
       "Type                 0\n",
       "Price             5151\n",
       "Method               0\n",
       "SellerG              0\n",
       "Date                 0\n",
       "Distance             1\n",
       "Postcode             1\n",
       "Bedroom2          4481\n",
       "Bathroom          4484\n",
       "Car               4626\n",
       "Landsize          6137\n",
       "BuildingArea     13529\n",
       "YearBuilt        12007\n",
       "CouncilArea       7891\n",
       "Lattitude         4304\n",
       "Longtitude        4304\n",
       "Regionname           1\n",
       "Propertycount        1\n",
       "dtype: int64"
      ]
     },
     "execution_count": 131,
     "metadata": {},
     "output_type": "execute_result"
    }
   ],
   "source": [
    "melbourne_df.isnull().sum()"
   ]
  },
  {
   "cell_type": "code",
   "execution_count": 132,
   "metadata": {},
   "outputs": [
    {
     "data": {
      "text/plain": [
       "0"
      ]
     },
     "execution_count": 132,
     "metadata": {},
     "output_type": "execute_result"
    }
   ],
   "source": [
    "# No row with all values empty\n",
    "melbourne_df.isnull().all(axis = 1).sum()"
   ]
  },
  {
   "cell_type": "markdown",
   "metadata": {},
   "source": [
    "# Remove rows with more than 5 entries missing"
   ]
  },
  {
   "cell_type": "code",
   "execution_count": null,
   "metadata": {},
   "outputs": [],
   "source": []
  },
  {
   "cell_type": "markdown",
   "metadata": {},
   "source": [
    "# Check Percentage Missing and remove"
   ]
  },
  {
   "cell_type": "code",
   "execution_count": 133,
   "metadata": {},
   "outputs": [
    {
     "data": {
      "text/plain": [
       "Suburb            0.00\n",
       "Address           0.00\n",
       "Rooms             0.00\n",
       "Type              0.00\n",
       "Price            21.88\n",
       "Method            0.00\n",
       "SellerG           0.00\n",
       "Date              0.00\n",
       "Distance          0.00\n",
       "Postcode          0.00\n",
       "Bedroom2         19.03\n",
       "Bathroom         19.04\n",
       "Car              19.65\n",
       "Landsize         26.06\n",
       "BuildingArea     57.46\n",
       "YearBuilt        50.99\n",
       "CouncilArea      33.51\n",
       "Lattitude        18.28\n",
       "Longtitude       18.28\n",
       "Regionname        0.00\n",
       "Propertycount     0.00\n",
       "dtype: float64"
      ]
     },
     "execution_count": 133,
     "metadata": {},
     "output_type": "execute_result"
    }
   ],
   "source": [
    "round(100 * melbourne_df.isnull().sum()/melbourne_df.shape[0], 2)"
   ]
  },
  {
   "cell_type": "code",
   "execution_count": 134,
   "metadata": {},
   "outputs": [],
   "source": [
    "melbourne_df = melbourne_df.drop('BuildingArea', axis = 1)\n",
    "melbourne_df = melbourne_df.drop('YearBuilt', axis = 1)\n",
    "melbourne_df = melbourne_df.drop('CouncilArea', axis = 1)"
   ]
  },
  {
   "cell_type": "code",
   "execution_count": 135,
   "metadata": {},
   "outputs": [
    {
     "data": {
      "text/plain": [
       "Suburb            0.00\n",
       "Address           0.00\n",
       "Rooms             0.00\n",
       "Type              0.00\n",
       "Price            21.88\n",
       "Method            0.00\n",
       "SellerG           0.00\n",
       "Date              0.00\n",
       "Distance          0.00\n",
       "Postcode          0.00\n",
       "Bedroom2         19.03\n",
       "Bathroom         19.04\n",
       "Car              19.65\n",
       "Landsize         26.06\n",
       "Lattitude        18.28\n",
       "Longtitude       18.28\n",
       "Regionname        0.00\n",
       "Propertycount     0.00\n",
       "dtype: float64"
      ]
     },
     "execution_count": 135,
     "metadata": {},
     "output_type": "execute_result"
    }
   ],
   "source": [
    "round(100 * melbourne_df.isnull().sum()/ melbourne_df.shape[0], 2)"
   ]
  },
  {
   "cell_type": "markdown",
   "metadata": {},
   "source": [
    "# Remove more than 5 missing rows"
   ]
  },
  {
   "cell_type": "code",
   "execution_count": 136,
   "metadata": {},
   "outputs": [
    {
     "name": "stdout",
     "output_type": "stream",
     "text": [
      "(23547, 18)\n",
      "(19269, 18)\n"
     ]
    }
   ],
   "source": [
    "melbourne_df_cleaned = melbourne_df[melbourne_df.isnull().sum(axis = 1) <= 5]\n",
    "print(melbourne_df.shape)\n",
    "print(melbourne_df_cleaned.shape)\n",
    "\n",
    "#only 20% rows, remove them\n",
    "melbourne_df = melbourne_df_cleaned"
   ]
  },
  {
   "cell_type": "code",
   "execution_count": 137,
   "metadata": {},
   "outputs": [
    {
     "data": {
      "text/plain": [
       "Suburb            0.00\n",
       "Address           0.00\n",
       "Rooms             0.00\n",
       "Type              0.00\n",
       "Price            21.71\n",
       "Method            0.00\n",
       "SellerG           0.00\n",
       "Date              0.00\n",
       "Distance          0.00\n",
       "Postcode          0.00\n",
       "Bedroom2          1.05\n",
       "Bathroom          1.07\n",
       "Car               1.81\n",
       "Landsize          9.65\n",
       "Lattitude         0.13\n",
       "Longtitude        0.13\n",
       "Regionname        0.00\n",
       "Propertycount     0.00\n",
       "dtype: float64"
      ]
     },
     "execution_count": 137,
     "metadata": {},
     "output_type": "execute_result"
    }
   ],
   "source": [
    "round(100 * melbourne_df.isnull().sum()/ melbourne_df.shape[0], 2)"
   ]
  },
  {
   "cell_type": "markdown",
   "metadata": {},
   "source": [
    "# Remove isNan price rows"
   ]
  },
  {
   "cell_type": "code",
   "execution_count": 138,
   "metadata": {},
   "outputs": [],
   "source": [
    "rows_with_no_price = np.isnan(melbourne_df['Price'])\n",
    "\n",
    "melbourne_df = melbourne_df[~rows_with_no_price]"
   ]
  },
  {
   "cell_type": "code",
   "execution_count": 139,
   "metadata": {},
   "outputs": [
    {
     "data": {
      "text/plain": [
       "Suburb           0.00\n",
       "Address          0.00\n",
       "Rooms            0.00\n",
       "Type             0.00\n",
       "Price            0.00\n",
       "Method           0.00\n",
       "SellerG          0.00\n",
       "Date             0.00\n",
       "Distance         0.00\n",
       "Postcode         0.00\n",
       "Bedroom2         1.05\n",
       "Bathroom         1.07\n",
       "Car              1.76\n",
       "Landsize         9.83\n",
       "Lattitude        0.15\n",
       "Longtitude       0.15\n",
       "Regionname       0.00\n",
       "Propertycount    0.00\n",
       "dtype: float64"
      ]
     },
     "execution_count": 139,
     "metadata": {},
     "output_type": "execute_result"
    }
   ],
   "source": [
    "round(100 * melbourne_df.isnull().sum()/melbourne_df.shape[0], 2)"
   ]
  },
  {
   "cell_type": "code",
   "execution_count": 140,
   "metadata": {},
   "outputs": [
    {
     "data": {
      "text/plain": [
       "count     13603.000000\n",
       "mean        558.116371\n",
       "std        3987.326586\n",
       "min           0.000000\n",
       "25%         176.500000\n",
       "50%         440.000000\n",
       "75%         651.000000\n",
       "max      433014.000000\n",
       "Name: Landsize, dtype: float64"
      ]
     },
     "execution_count": 140,
     "metadata": {},
     "output_type": "execute_result"
    }
   ],
   "source": [
    "melbourne_df['Landsize'].describe()"
   ]
  },
  {
   "cell_type": "code",
   "execution_count": 141,
   "metadata": {},
   "outputs": [],
   "source": [
    "rows_without_landsize = np.isnan(melbourne_df['Landsize'])\n",
    "\n",
    "melbourne_df = melbourne_df[~rows_without_landsize]"
   ]
  },
  {
   "cell_type": "code",
   "execution_count": 142,
   "metadata": {},
   "outputs": [
    {
     "data": {
      "text/plain": [
       "Suburb           0.00\n",
       "Address          0.00\n",
       "Rooms            0.00\n",
       "Type             0.00\n",
       "Price            0.00\n",
       "Method           0.00\n",
       "SellerG          0.00\n",
       "Date             0.00\n",
       "Distance         0.00\n",
       "Postcode         0.00\n",
       "Bedroom2         0.00\n",
       "Bathroom         0.01\n",
       "Car              0.46\n",
       "Landsize         0.00\n",
       "Lattitude        0.16\n",
       "Longtitude       0.16\n",
       "Regionname       0.00\n",
       "Propertycount    0.00\n",
       "dtype: float64"
      ]
     },
     "execution_count": 142,
     "metadata": {},
     "output_type": "execute_result"
    }
   ],
   "source": [
    "round(100 * melbourne_df.isnull().sum()/melbourne_df.shape[0], 2)"
   ]
  },
  {
   "cell_type": "code",
   "execution_count": 143,
   "metadata": {},
   "outputs": [
    {
     "data": {
      "text/html": [
       "<div>\n",
       "<style scoped>\n",
       "    .dataframe tbody tr th:only-of-type {\n",
       "        vertical-align: middle;\n",
       "    }\n",
       "\n",
       "    .dataframe tbody tr th {\n",
       "        vertical-align: top;\n",
       "    }\n",
       "\n",
       "    .dataframe thead th {\n",
       "        text-align: right;\n",
       "    }\n",
       "</style>\n",
       "<table border=\"1\" class=\"dataframe\">\n",
       "  <thead>\n",
       "    <tr style=\"text-align: right;\">\n",
       "      <th></th>\n",
       "      <th>Lattitude</th>\n",
       "      <th>Longtitude</th>\n",
       "    </tr>\n",
       "  </thead>\n",
       "  <tbody>\n",
       "    <tr>\n",
       "      <th>count</th>\n",
       "      <td>13581.000000</td>\n",
       "      <td>13581.000000</td>\n",
       "    </tr>\n",
       "    <tr>\n",
       "      <th>mean</th>\n",
       "      <td>-37.809204</td>\n",
       "      <td>144.995221</td>\n",
       "    </tr>\n",
       "    <tr>\n",
       "      <th>std</th>\n",
       "      <td>0.079257</td>\n",
       "      <td>0.103913</td>\n",
       "    </tr>\n",
       "    <tr>\n",
       "      <th>min</th>\n",
       "      <td>-38.182550</td>\n",
       "      <td>144.431810</td>\n",
       "    </tr>\n",
       "    <tr>\n",
       "      <th>25%</th>\n",
       "      <td>-37.856820</td>\n",
       "      <td>144.929600</td>\n",
       "    </tr>\n",
       "    <tr>\n",
       "      <th>50%</th>\n",
       "      <td>-37.802360</td>\n",
       "      <td>145.000100</td>\n",
       "    </tr>\n",
       "    <tr>\n",
       "      <th>75%</th>\n",
       "      <td>-37.756400</td>\n",
       "      <td>145.058320</td>\n",
       "    </tr>\n",
       "    <tr>\n",
       "      <th>max</th>\n",
       "      <td>-37.408530</td>\n",
       "      <td>145.526350</td>\n",
       "    </tr>\n",
       "  </tbody>\n",
       "</table>\n",
       "</div>"
      ],
      "text/plain": [
       "          Lattitude    Longtitude\n",
       "count  13581.000000  13581.000000\n",
       "mean     -37.809204    144.995221\n",
       "std        0.079257      0.103913\n",
       "min      -38.182550    144.431810\n",
       "25%      -37.856820    144.929600\n",
       "50%      -37.802360    145.000100\n",
       "75%      -37.756400    145.058320\n",
       "max      -37.408530    145.526350"
      ]
     },
     "execution_count": 143,
     "metadata": {},
     "output_type": "execute_result"
    }
   ],
   "source": [
    "melbourne_df.loc[:, ['Lattitude', 'Longtitude']].describe()"
   ]
  },
  {
   "cell_type": "code",
   "execution_count": 144,
   "metadata": {},
   "outputs": [],
   "source": [
    "melbourne_df.loc[np.isnan(melbourne_df['Lattitude']), 'Lattitude'] = melbourne_df['Lattitude'].mean()\n",
    "melbourne_df.loc[np.isnan(melbourne_df['Longtitude']), 'Longtitude'] = melbourne_df['Longtitude'].mean()"
   ]
  },
  {
   "cell_type": "code",
   "execution_count": 147,
   "metadata": {},
   "outputs": [
    {
     "data": {
      "text/plain": [
       "Suburb           0.00\n",
       "Address          0.00\n",
       "Rooms            0.00\n",
       "Type             0.00\n",
       "Price            0.00\n",
       "Method           0.00\n",
       "SellerG          0.00\n",
       "Date             0.00\n",
       "Distance         0.00\n",
       "Postcode         0.00\n",
       "Bedroom2         0.00\n",
       "Bathroom         0.01\n",
       "Car              0.46\n",
       "Landsize         0.00\n",
       "Lattitude        0.00\n",
       "Longtitude       0.00\n",
       "Regionname       0.00\n",
       "Propertycount    0.00\n",
       "dtype: float64"
      ]
     },
     "execution_count": 147,
     "metadata": {},
     "output_type": "execute_result"
    }
   ],
   "source": [
    "round(100 * melbourne_df.isnull().sum()/melbourne_df.shape[0], 2)"
   ]
  },
  {
   "cell_type": "code",
   "execution_count": 150,
   "metadata": {},
   "outputs": [
    {
     "data": {
      "text/html": [
       "<div>\n",
       "<style scoped>\n",
       "    .dataframe tbody tr th:only-of-type {\n",
       "        vertical-align: middle;\n",
       "    }\n",
       "\n",
       "    .dataframe tbody tr th {\n",
       "        vertical-align: top;\n",
       "    }\n",
       "\n",
       "    .dataframe thead th {\n",
       "        text-align: right;\n",
       "    }\n",
       "</style>\n",
       "<table border=\"1\" class=\"dataframe\">\n",
       "  <thead>\n",
       "    <tr style=\"text-align: right;\">\n",
       "      <th></th>\n",
       "      <th>Bathroom</th>\n",
       "      <th>Car</th>\n",
       "    </tr>\n",
       "  </thead>\n",
       "  <tbody>\n",
       "    <tr>\n",
       "      <th>count</th>\n",
       "      <td>13602.000000</td>\n",
       "      <td>13540.000000</td>\n",
       "    </tr>\n",
       "    <tr>\n",
       "      <th>mean</th>\n",
       "      <td>1.534921</td>\n",
       "      <td>1.610414</td>\n",
       "    </tr>\n",
       "    <tr>\n",
       "      <th>std</th>\n",
       "      <td>0.691834</td>\n",
       "      <td>0.962244</td>\n",
       "    </tr>\n",
       "    <tr>\n",
       "      <th>min</th>\n",
       "      <td>0.000000</td>\n",
       "      <td>0.000000</td>\n",
       "    </tr>\n",
       "    <tr>\n",
       "      <th>25%</th>\n",
       "      <td>1.000000</td>\n",
       "      <td>1.000000</td>\n",
       "    </tr>\n",
       "    <tr>\n",
       "      <th>50%</th>\n",
       "      <td>1.000000</td>\n",
       "      <td>2.000000</td>\n",
       "    </tr>\n",
       "    <tr>\n",
       "      <th>75%</th>\n",
       "      <td>2.000000</td>\n",
       "      <td>2.000000</td>\n",
       "    </tr>\n",
       "    <tr>\n",
       "      <th>max</th>\n",
       "      <td>8.000000</td>\n",
       "      <td>10.000000</td>\n",
       "    </tr>\n",
       "  </tbody>\n",
       "</table>\n",
       "</div>"
      ],
      "text/plain": [
       "           Bathroom           Car\n",
       "count  13602.000000  13540.000000\n",
       "mean       1.534921      1.610414\n",
       "std        0.691834      0.962244\n",
       "min        0.000000      0.000000\n",
       "25%        1.000000      1.000000\n",
       "50%        1.000000      2.000000\n",
       "75%        2.000000      2.000000\n",
       "max        8.000000     10.000000"
      ]
     },
     "execution_count": 150,
     "metadata": {},
     "output_type": "execute_result"
    }
   ],
   "source": [
    "melbourne_df.loc[:, ['Bathroom', 'Car']].describe()"
   ]
  },
  {
   "cell_type": "code",
   "execution_count": 154,
   "metadata": {},
   "outputs": [
    {
     "data": {
      "text/plain": [
       "2.0     5606\n",
       "1.0     5515\n",
       "0.0     1026\n",
       "3.0      748\n",
       "4.0      507\n",
       "5.0       63\n",
       "6.0       54\n",
       "8.0        9\n",
       "7.0        8\n",
       "10.0       3\n",
       "9.0        1\n",
       "Name: Car, dtype: int64"
      ]
     },
     "execution_count": 154,
     "metadata": {},
     "output_type": "execute_result"
    }
   ],
   "source": [
    "melbourne_df['Car'].value_counts()"
   ]
  },
  {
   "cell_type": "markdown",
   "metadata": {},
   "source": [
    "# Most people have 2 cars, lets impute by that."
   ]
  },
  {
   "cell_type": "code",
   "execution_count": 163,
   "metadata": {},
   "outputs": [],
   "source": [
    "melbourne_df.loc[np.isnan(melbourne_df['Car']), 'Car'] = 2"
   ]
  },
  {
   "cell_type": "code",
   "execution_count": 168,
   "metadata": {},
   "outputs": [
    {
     "data": {
      "text/plain": [
       "2.0     5669\n",
       "1.0     5515\n",
       "0.0     1026\n",
       "3.0      748\n",
       "4.0      507\n",
       "5.0       63\n",
       "6.0       54\n",
       "8.0        9\n",
       "7.0        8\n",
       "10.0       3\n",
       "9.0        1\n",
       "Name: Car, dtype: int64"
      ]
     },
     "execution_count": 168,
     "metadata": {},
     "output_type": "execute_result"
    }
   ],
   "source": [
    "melbourne_df.loc[:, 'Car'].value_counts()"
   ]
  },
  {
   "cell_type": "code",
   "execution_count": 171,
   "metadata": {},
   "outputs": [
    {
     "data": {
      "text/plain": [
       "1.0    7517\n",
       "2.0    4987\n",
       "3.0     921\n",
       "4.0     106\n",
       "0.0      34\n",
       "5.0      28\n",
       "6.0       5\n",
       "8.0       2\n",
       "7.0       2\n",
       "Name: Bathroom, dtype: int64"
      ]
     },
     "execution_count": 171,
     "metadata": {},
     "output_type": "execute_result"
    }
   ],
   "source": [
    "melbourne_df['Bathroom'].value_counts()"
   ]
  },
  {
   "cell_type": "code",
   "execution_count": 175,
   "metadata": {},
   "outputs": [],
   "source": [
    "melbourne_df.loc[np.isnan(melbourne_df['Bathroom']), 'Bathroom'] = 1"
   ]
  },
  {
   "cell_type": "code",
   "execution_count": 179,
   "metadata": {},
   "outputs": [
    {
     "data": {
      "text/html": [
       "<div>\n",
       "<style scoped>\n",
       "    .dataframe tbody tr th:only-of-type {\n",
       "        vertical-align: middle;\n",
       "    }\n",
       "\n",
       "    .dataframe tbody tr th {\n",
       "        vertical-align: top;\n",
       "    }\n",
       "\n",
       "    .dataframe thead th {\n",
       "        text-align: right;\n",
       "    }\n",
       "</style>\n",
       "<table border=\"1\" class=\"dataframe\">\n",
       "  <thead>\n",
       "    <tr style=\"text-align: right;\">\n",
       "      <th></th>\n",
       "      <th>Car</th>\n",
       "      <th>Bathroom</th>\n",
       "    </tr>\n",
       "  </thead>\n",
       "  <tbody>\n",
       "    <tr>\n",
       "      <th>count</th>\n",
       "      <td>13603.000000</td>\n",
       "      <td>13603.000000</td>\n",
       "    </tr>\n",
       "    <tr>\n",
       "      <th>mean</th>\n",
       "      <td>1.612218</td>\n",
       "      <td>1.534882</td>\n",
       "    </tr>\n",
       "    <tr>\n",
       "      <th>std</th>\n",
       "      <td>0.960377</td>\n",
       "      <td>0.691824</td>\n",
       "    </tr>\n",
       "    <tr>\n",
       "      <th>min</th>\n",
       "      <td>0.000000</td>\n",
       "      <td>0.000000</td>\n",
       "    </tr>\n",
       "    <tr>\n",
       "      <th>25%</th>\n",
       "      <td>1.000000</td>\n",
       "      <td>1.000000</td>\n",
       "    </tr>\n",
       "    <tr>\n",
       "      <th>50%</th>\n",
       "      <td>2.000000</td>\n",
       "      <td>1.000000</td>\n",
       "    </tr>\n",
       "    <tr>\n",
       "      <th>75%</th>\n",
       "      <td>2.000000</td>\n",
       "      <td>2.000000</td>\n",
       "    </tr>\n",
       "    <tr>\n",
       "      <th>max</th>\n",
       "      <td>10.000000</td>\n",
       "      <td>8.000000</td>\n",
       "    </tr>\n",
       "  </tbody>\n",
       "</table>\n",
       "</div>"
      ],
      "text/plain": [
       "                Car      Bathroom\n",
       "count  13603.000000  13603.000000\n",
       "mean       1.612218      1.534882\n",
       "std        0.960377      0.691824\n",
       "min        0.000000      0.000000\n",
       "25%        1.000000      1.000000\n",
       "50%        2.000000      1.000000\n",
       "75%        2.000000      2.000000\n",
       "max       10.000000      8.000000"
      ]
     },
     "execution_count": 179,
     "metadata": {},
     "output_type": "execute_result"
    }
   ],
   "source": [
    "melbourne_df.loc[:, ['Car', 'Bathroom']].describe()"
   ]
  },
  {
   "cell_type": "code",
   "execution_count": 201,
   "metadata": {},
   "outputs": [
    {
     "name": "stdout",
     "output_type": "stream",
     "text": [
      "[[4 3 1]\n",
      " [5 7 0]\n",
      " [9 9 3]\n",
      " [8 2 4]]\n",
      "[[4 3 1]\n",
      " [5 7 0]\n",
      " [8 2 4]\n",
      " [9 9 3]]\n"
     ]
    },
    {
     "data": {
      "text/plain": [
       "array([[0., 0., 0.],\n",
       "       [0., 0., 0.]])"
      ]
     },
     "execution_count": 201,
     "metadata": {},
     "output_type": "execute_result"
    }
   ],
   "source": [
    "round(melbourne_df.isnull().sum()/ melbourne_df.shape[0], 2)\n",
    "a = np.array([[4, 3, 1], [5, 7, 0], [9, 9, 3], [8, 2, 4]])\n",
    "\n",
    "print(a)\n",
    "t = np.array(a[2])\n",
    "a[2] = a[3]\n",
    "a[3] = t\n",
    "print(a)\n",
    "np.zeros([2,3])"
   ]
  }
 ],
 "metadata": {
  "kernelspec": {
   "display_name": "Python 3",
   "language": "python",
   "name": "python3"
  },
  "language_info": {
   "codemirror_mode": {
    "name": "ipython",
    "version": 3
   },
   "file_extension": ".py",
   "mimetype": "text/x-python",
   "name": "python",
   "nbconvert_exporter": "python",
   "pygments_lexer": "ipython3",
   "version": "3.7.0"
  }
 },
 "nbformat": 4,
 "nbformat_minor": 2
}
